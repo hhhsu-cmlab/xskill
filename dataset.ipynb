{
 "cells": [
  {
   "cell_type": "code",
   "execution_count": 14,
   "metadata": {},
   "outputs": [
    {
     "data": {
      "text/plain": [
       "(23684, 7)"
      ]
     },
     "execution_count": 14,
     "metadata": {},
     "output_type": "execute_result"
    }
   ],
   "source": [
    "import zarr\n",
    "import numpy as np\n",
    "\n",
    "zarrfile = zarr.open(\"datasets/data_v2/draw_cloth_light/replay_buffer.zarr\", mode=\"r\")\n",
    "np.array(zarrfile['data']['action'])"
   ]
  },
  {
   "cell_type": "code",
   "execution_count": 15,
   "metadata": {},
   "outputs": [
    {
     "ename": "AttributeError",
     "evalue": "'Tree' object has no attribute '_ipython_display_'",
     "output_type": "error",
     "traceback": [
      "\u001b[0;31m---------------------------------------------------------------------------\u001b[0m",
      "\u001b[0;31mAttributeError\u001b[0m                            Traceback (most recent call last)",
      "File \u001b[0;32m~/anaconda3/envs/xskill/lib/python3.9/site-packages/IPython/core/formatters.py:922\u001b[0m, in \u001b[0;36mIPythonDisplayFormatter.__call__\u001b[0;34m(self, obj)\u001b[0m\n\u001b[1;32m    920\u001b[0m method \u001b[38;5;241m=\u001b[39m get_real_method(obj, \u001b[38;5;28mself\u001b[39m\u001b[38;5;241m.\u001b[39mprint_method)\n\u001b[1;32m    921\u001b[0m \u001b[38;5;28;01mif\u001b[39;00m method \u001b[38;5;129;01mis\u001b[39;00m \u001b[38;5;129;01mnot\u001b[39;00m \u001b[38;5;28;01mNone\u001b[39;00m:\n\u001b[0;32m--> 922\u001b[0m     \u001b[43mmethod\u001b[49m\u001b[43m(\u001b[49m\u001b[43m)\u001b[49m\n\u001b[1;32m    923\u001b[0m     \u001b[38;5;28;01mreturn\u001b[39;00m \u001b[38;5;28;01mTrue\u001b[39;00m\n",
      "File \u001b[0;32m~/anaconda3/envs/xskill/lib/python3.9/site-packages/zarr/util.py:538\u001b[0m, in \u001b[0;36mTreeViewer._ipython_display_\u001b[0;34m(self)\u001b[0m\n\u001b[1;32m    536\u001b[0m \u001b[38;5;28;01mdef\u001b[39;00m \u001b[38;5;21m_ipython_display_\u001b[39m(\u001b[38;5;28mself\u001b[39m):\n\u001b[1;32m    537\u001b[0m     tree \u001b[38;5;241m=\u001b[39m tree_widget(\u001b[38;5;28mself\u001b[39m\u001b[38;5;241m.\u001b[39mgroup, expand\u001b[38;5;241m=\u001b[39m\u001b[38;5;28mself\u001b[39m\u001b[38;5;241m.\u001b[39mexpand, level\u001b[38;5;241m=\u001b[39m\u001b[38;5;28mself\u001b[39m\u001b[38;5;241m.\u001b[39mlevel)\n\u001b[0;32m--> 538\u001b[0m     \u001b[43mtree\u001b[49m\u001b[38;5;241;43m.\u001b[39;49m\u001b[43m_ipython_display_\u001b[49m()\n\u001b[1;32m    539\u001b[0m     \u001b[38;5;28;01mreturn\u001b[39;00m tree\n",
      "\u001b[0;31mAttributeError\u001b[0m: 'Tree' object has no attribute '_ipython_display_'"
     ]
    },
    {
     "data": {
      "text/plain": [
       "/\n",
       " ├── data\n",
       " │   ├── action (23684, 7) float64\n",
       " │   ├── gripper_force (23684,) float64\n",
       " │   ├── gripper_pos (23684,) float64\n",
       " │   ├── gripper_state (23684,) int64\n",
       " │   ├── robot_eef_pose (23684, 6) float64\n",
       " │   ├── robot_eef_pose_vel (23684, 6) float64\n",
       " │   ├── robot_joint (23684, 6) float64\n",
       " │   ├── robot_joint_vel (23684, 6) float64\n",
       " │   ├── stage (23684,) int64\n",
       " │   └── timestamp (23684,) float64\n",
       " └── meta\n",
       "     └── episode_ends (25,) int64"
      ]
     },
     "execution_count": 15,
     "metadata": {},
     "output_type": "execute_result"
    }
   ],
   "source": [
    "zarrfile.tree()"
   ]
  },
  {
   "cell_type": "code",
   "execution_count": 18,
   "metadata": {},
   "outputs": [
    {
     "ename": "AttributeError",
     "evalue": "'Tree' object has no attribute '_ipython_display_'",
     "output_type": "error",
     "traceback": [
      "\u001b[0;31m---------------------------------------------------------------------------\u001b[0m",
      "\u001b[0;31mAttributeError\u001b[0m                            Traceback (most recent call last)",
      "File \u001b[0;32m~/anaconda3/envs/xskill/lib/python3.9/site-packages/IPython/core/formatters.py:922\u001b[0m, in \u001b[0;36mIPythonDisplayFormatter.__call__\u001b[0;34m(self, obj)\u001b[0m\n\u001b[1;32m    920\u001b[0m method \u001b[38;5;241m=\u001b[39m get_real_method(obj, \u001b[38;5;28mself\u001b[39m\u001b[38;5;241m.\u001b[39mprint_method)\n\u001b[1;32m    921\u001b[0m \u001b[38;5;28;01mif\u001b[39;00m method \u001b[38;5;129;01mis\u001b[39;00m \u001b[38;5;129;01mnot\u001b[39;00m \u001b[38;5;28;01mNone\u001b[39;00m:\n\u001b[0;32m--> 922\u001b[0m     \u001b[43mmethod\u001b[49m\u001b[43m(\u001b[49m\u001b[43m)\u001b[49m\n\u001b[1;32m    923\u001b[0m     \u001b[38;5;28;01mreturn\u001b[39;00m \u001b[38;5;28;01mTrue\u001b[39;00m\n",
      "File \u001b[0;32m~/anaconda3/envs/xskill/lib/python3.9/site-packages/zarr/util.py:538\u001b[0m, in \u001b[0;36mTreeViewer._ipython_display_\u001b[0;34m(self)\u001b[0m\n\u001b[1;32m    536\u001b[0m \u001b[38;5;28;01mdef\u001b[39;00m \u001b[38;5;21m_ipython_display_\u001b[39m(\u001b[38;5;28mself\u001b[39m):\n\u001b[1;32m    537\u001b[0m     tree \u001b[38;5;241m=\u001b[39m tree_widget(\u001b[38;5;28mself\u001b[39m\u001b[38;5;241m.\u001b[39mgroup, expand\u001b[38;5;241m=\u001b[39m\u001b[38;5;28mself\u001b[39m\u001b[38;5;241m.\u001b[39mexpand, level\u001b[38;5;241m=\u001b[39m\u001b[38;5;28mself\u001b[39m\u001b[38;5;241m.\u001b[39mlevel)\n\u001b[0;32m--> 538\u001b[0m     \u001b[43mtree\u001b[49m\u001b[38;5;241;43m.\u001b[39;49m\u001b[43m_ipython_display_\u001b[49m()\n\u001b[1;32m    539\u001b[0m     \u001b[38;5;28;01mreturn\u001b[39;00m tree\n",
      "\u001b[0;31mAttributeError\u001b[0m: 'Tree' object has no attribute '_ipython_display_'"
     ]
    },
    {
     "data": {
      "text/plain": [
       "/\n",
       " ├── data\n",
       " │   ├── action (23684, 7) float64\n",
       " │   ├── gripper_force (23684,) float64\n",
       " │   ├── gripper_pos (23684,) float64\n",
       " │   ├── gripper_state (23684,) int64\n",
       " │   ├── robot_eef_pose (23684, 6) float64\n",
       " │   ├── robot_eef_pose_vel (23684, 6) float64\n",
       " │   ├── robot_joint (23684, 6) float64\n",
       " │   ├── robot_joint_vel (23684, 6) float64\n",
       " │   ├── stage (23684,) int64\n",
       " │   └── timestamp (23684,) float64\n",
       " └── meta\n",
       "     └── episode_ends (25,) int64"
      ]
     },
     "execution_count": 18,
     "metadata": {},
     "output_type": "execute_result"
    }
   ],
   "source": [
    "zarrhuman = zarr.open(\"datasets/data_v2/human_draw_cloth_light/replay_buffer.zarr\", mode=\"r\")\n",
    "zarrfile.tree()\n",
    "#np.array(zarrfile['data']['action'])"
   ]
  },
  {
   "cell_type": "code",
   "execution_count": 1,
   "metadata": {},
   "outputs": [],
   "source": [
    "import json\n",
    "\n",
    "with open(\"datasets/config/data.json\", \"r\") as f:\n",
    "    json_data = json.load(f)\n",
    "\n",
    "def replace_numbers_with_minus_one(obj):\n",
    "    if isinstance(obj, int):\n",
    "        return -1\n",
    "    elif isinstance(obj, list):\n",
    "        return [replace_numbers_with_minus_one(item) for item in obj]\n",
    "    elif isinstance(obj, dict):\n",
    "        return {key: replace_numbers_with_minus_one(value) for key, value in obj.items()}\n",
    "    else:\n",
    "        return obj\n",
    "    \n",
    "json_data = replace_numbers_with_minus_one(json_data)\n",
    "\n",
    "with open(\"datasets/config/data.json\", \"w\") as f:\n",
    "    json.dump(json_data, f)\n"
   ]
  },
  {
   "cell_type": "code",
   "execution_count": 28,
   "metadata": {},
   "outputs": [
    {
     "data": {
      "text/plain": [
       "video_folder      video_index\n",
       "draw_cloth_light  0              [[0.0, 12.13, 27.71]]\n",
       "                  1               [[0.0, 13.6, 32.78]]\n",
       "                  2              [[0.0, 14.67, 27.14]]\n",
       "                  3               [[0.0, 12.22, 29.2]]\n",
       "                  4               [[0.0, 9.73, 24.68]]\n",
       "                  5              [[0.0, 11.05, 26.45]]\n",
       "                  6                [[0.0, 10.1, 25.8]]\n",
       "                  7              [[0.0, 10.33, 23.17]]\n",
       "                  8               [[0.0, 8.52, 24.56]]\n",
       "                  9               [[0.0, 9.01, 21.33]]\n",
       "Name: start, dtype: object"
      ]
     },
     "execution_count": 28,
     "metadata": {},
     "output_type": "execute_result"
    }
   ],
   "source": [
    "import pandas as pd\n",
    "import numpy as np\n",
    "\n",
    "dat = pd.read_csv(\"datasets/timestamps.csv\")\n",
    "def func(g):\n",
    "    '''\n",
    "    :param g: a tuple representing the group of video_folder and video_index\n",
    "              e.g. g = ('draw_cloth_light', 0)\n",
    "    '''\n",
    "    \n",
    "    return [1, 2, 3]\n",
    "\n",
    "dat.groupby(['video_folder', 'video_index'])['start'].apply(lambda g: [g])"
   ]
  },
  {
   "cell_type": "code",
   "execution_count": 49,
   "metadata": {},
   "outputs": [
    {
     "data": {
      "text/plain": [
       "['the light is off',\n",
       " 'the drawer is closed',\n",
       " 'the cloth is in the sink',\n",
       " 'the oven door is closed']"
      ]
     },
     "execution_count": 49,
     "metadata": {},
     "output_type": "execute_result"
    }
   ],
   "source": [
    "import json\n",
    "import pandas as pd\n",
    "import numpy as np\n",
    "\n",
    "dat = pd.read_csv(\"datasets/timestamps.csv\")\n",
    "with open(\"datasets/config/data.json\") as f:\n",
    "    metadata = json.load(f)\n",
    "'''\n",
    "dat.groupby(['video_folder', 'video_index']).apply(lambda x: \n",
    "                                                   metadata['data'][video_folder])\n",
    "'''\n",
    "\n",
    "dat['stage'] = dat.groupby(['video_folder', 'video_index']).cumcount()\n",
    "def func(row):\n",
    "    v_folder = row['video_folder']\n",
    "    stage_idx = row['stage']\n",
    "    return metadata['data'][v_folder]['stages'][stage_idx]\n",
    "dat['Task Name'] = dat.apply(func, axis=1)\n",
    "#dat\n",
    "\n",
    "# add env descriptions\n",
    "def get_env_descriptions(video_folder, task_name):\n",
    "    env_descriptions_binary = metadata['data'][video_folder]['Env Descriptions'][task_name]\n",
    "    descriptions_map = metadata['Env Descriptions']\n",
    "    return [descriptions_map[i][b] for i, b in enumerate(env_descriptions_binary)]\n",
    "\n",
    "get_env_descriptions(\"draw_cloth_light\", \"light\")"
   ]
  },
  {
   "cell_type": "code",
   "execution_count": 41,
   "metadata": {},
   "outputs": [
    {
     "name": "stdout",
     "output_type": "stream",
     "text": [
      "Video Folder: draw_cloth_light, Video Index: 0\n",
      "Video Folder: draw_cloth_light, Video Index: 1\n",
      "Video Folder: draw_cloth_light, Video Index: 2\n",
      "Video Folder: draw_cloth_light, Video Index: 3\n",
      "Video Folder: draw_cloth_light, Video Index: 4\n",
      "Video Folder: draw_cloth_light, Video Index: 5\n",
      "Video Folder: draw_cloth_light, Video Index: 6\n",
      "Video Folder: draw_cloth_light, Video Index: 7\n",
      "Video Folder: draw_cloth_light, Video Index: 8\n",
      "Video Folder: draw_cloth_light, Video Index: 9\n"
     ]
    },
    {
     "data": {
      "text/html": [
       "<div>\n",
       "<style scoped>\n",
       "    .dataframe tbody tr th:only-of-type {\n",
       "        vertical-align: middle;\n",
       "    }\n",
       "\n",
       "    .dataframe tbody tr th {\n",
       "        vertical-align: top;\n",
       "    }\n",
       "\n",
       "    .dataframe thead th {\n",
       "        text-align: right;\n",
       "    }\n",
       "</style>\n",
       "<table border=\"1\" class=\"dataframe\">\n",
       "  <thead>\n",
       "    <tr style=\"text-align: right;\">\n",
       "      <th></th>\n",
       "    </tr>\n",
       "  </thead>\n",
       "  <tbody>\n",
       "  </tbody>\n",
       "</table>\n",
       "</div>"
      ],
      "text/plain": [
       "Empty DataFrame\n",
       "Columns: []\n",
       "Index: []"
      ]
     },
     "execution_count": 41,
     "metadata": {},
     "output_type": "execute_result"
    }
   ],
   "source": [
    "def custom_function(video_folder, stage):\n",
    "    # Your logic here, for example, printing the parameters\n",
    "    print(f\"Video Folder: {video_folder}, Video Index: {stage}\")\n",
    "\n",
    "# Apply the custom function to each group defined by 'video_folder' and 'stage'\n",
    "dat.groupby(['video_folder', 'video_index']).apply(lambda group: custom_function(group['video_folder'].iloc[0], group['video_index'].iloc[0]))\n"
   ]
  }
 ],
 "metadata": {
  "kernelspec": {
   "display_name": "xskill",
   "language": "python",
   "name": "python3"
  },
  "language_info": {
   "codemirror_mode": {
    "name": "ipython",
    "version": 3
   },
   "file_extension": ".py",
   "mimetype": "text/x-python",
   "name": "python",
   "nbconvert_exporter": "python",
   "pygments_lexer": "ipython3",
   "version": "3.9.18"
  }
 },
 "nbformat": 4,
 "nbformat_minor": 2
}
